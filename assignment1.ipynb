{
 "cells": [
  {
   "cell_type": "code",
   "execution_count": null,
   "id": "460b1881-f386-4d81-9896-417aa30b3a3a",
   "metadata": {},
   "outputs": [],
   "source": [
    "Q1: WHO IS DEVELOPED PYTHONE PROGRAMMING LANGUAGE?\n",
    "\n",
    "ANS: Python programming language was developed by GUIDO VAN ROSSUM and first released of python on 20 february 1991 \n",
    "     at Centrum Wiskunde & Informatica (CWI) in the Netherlands."
   ]
  },
  {
   "cell_type": "code",
   "execution_count": null,
   "id": "b1c31943-f942-48a4-944e-24e156c3894b",
   "metadata": {},
   "outputs": [],
   "source": [
    "Q2: WHICH TYPE OF PROGRAMMING DOES PYTHON SUPPORT?\n",
    "\n",
    "ANS: Python is an interpreted/multiparadigm programming language.it is is fully supporting object-oriented and structured programming.\n",
    "     and many of their features support functional programming and aspect-oriented programming."
   ]
  },
  {
   "cell_type": "code",
   "execution_count": null,
   "id": "168643b4-e8f6-443d-b3b8-aef4ea8c31cf",
   "metadata": {},
   "outputs": [],
   "source": [
    "Q3: IS PYTHON CASE SENSITIVE WHEN DEALING WITH IDENTIFIERS?\n",
    "\n",
    "ANS: YES, Python is a case-sensitive language.like it treats uppercase and lowercase characters differently.not only the character it is\n",
    "     also treats the idetifirers the same way.this means,Variable and variable are not the same.always give the identifiers a name that\n",
    "     makes sense.\n",
    "        for example: if we declare a variable with same name like Count & count but here is both variables are treats separatly.because \n",
    "        one is in uppercase and other one is in lowercase.\n",
    "     "
   ]
  },
  {
   "cell_type": "code",
   "execution_count": null,
   "id": "625e8aba-8504-4f74-a58d-ff58394c8e15",
   "metadata": {},
   "outputs": [],
   "source": [
    "Q4: WHAT IS THE CORRECT EXTENSION OF THE PYTHON FILE?\n",
    "\n",
    "ANS: The correct extension of python file is .py ,a py file is a program or script written in python.it can and should be edited in a\n",
    "     text editor,but should run with a python interpreter.to save a programs we need to save in files with file extension .py ."
   ]
  },
  {
   "cell_type": "code",
   "execution_count": null,
   "id": "27f067d6-f6be-4b26-ba34-934b3b1b0bc3",
   "metadata": {},
   "outputs": [],
   "source": [
    "Q5: IS PYTHON CODE COMPILED OR INTERPRETED?\n",
    "\n",
    "ANS: Python is an interpreted language (that code is executed line by line),which means the source code of a python program is converted \n",
    "     into bytecode that is then executed by the python virtual machine.\n",
    "     but like we say that python is both compiled as well as an interpreted language,which means when we run a python code,it is first\n",
    "    compiled and then interpreted line by line.but the compile part gets deleted as soon as the code gets executed in python."
   ]
  },
  {
   "cell_type": "code",
   "execution_count": null,
   "id": "54718818-ea45-45fc-be65-99895d1b5e70",
   "metadata": {},
   "outputs": [],
   "source": [
    "Q6: NAME A FEW BLOCK OF CODE USED TO DEFINE IN PYTHON LANGUAGE?\n",
    "\n",
    "ANS: A code block is a piece of python program text that can be executed as a unit,such as a module,a class definition or a fucntion body.\n",
    "     some blocks like modules are normally executed only once,other like function bodies executed many times.\n",
    "     The following are code blocks: A module is a code block.A function body is a code block. A class definition is a code block.\n",
    "     Indentation is used to define a block of code in python.this indentation makes python unique among all programming languages.\n",
    "     this indentation highlights the block of code."
   ]
  },
  {
   "cell_type": "code",
   "execution_count": null,
   "id": "e1638876-6510-4138-8088-a0b5d8770d05",
   "metadata": {},
   "outputs": [],
   "source": [
    "Q7: STATE A CHARACTER USED TO GIVE SINGLE-LINE COMMENTS IN PYTHON?\n",
    "\n",
    "ANS: We can use the '#' character to write the single-line comment in python.\n",
    "     for example: \n",
    "# addition of two numbers\n",
    "a = 6\n",
    "b = 9\n",
    "c= a+b\n",
    "print('addition:',c)\n",
    "# print('addition:',c) //in comment\n",
    "here is the heading of the program is in a comment with #.\n",
    "\n"
   ]
  },
  {
   "cell_type": "code",
   "execution_count": null,
   "id": "4ad166d1-bf33-494b-b8e3-a7dca9720a76",
   "metadata": {},
   "outputs": [],
   "source": [
    "Q8: MENTION FUCNTIONS WHICH CAN HELP US TO FIND THE VERSION OF PYTHON THAT WE ARE CURRENTLY WORKING ON?\n",
    "\n",
    "ANS: The function sys.version can help us to find the version of python that we are currently working on.\n"
   ]
  },
  {
   "cell_type": "code",
   "execution_count": null,
   "id": "a68ad3e9-922b-405d-a5dd-049f82488edc",
   "metadata": {},
   "outputs": [],
   "source": [
    "Q9: PYTHON SUPPORTS THE CREATION OF ANONYMOUS FUNCTION AT RUNTIME,USING A CONSTRUCT CALLED ________\n",
    "\n",
    "ANS: Python supports the creation of anonymous functions at runtime,using a construct called lambda. Lambda functions are restricted to a\n",
    "     single expression. they can be used wherever normal functions can be used."
   ]
  },
  {
   "cell_type": "code",
   "execution_count": null,
   "id": "7b4cac69-04e3-42fa-9ae7-6d9696bef36d",
   "metadata": {},
   "outputs": [],
   "source": [
    "Q10: WHAT DOES PIP STANDS FOR PYTHON?\n",
    "\n",
    "ANS: pip stands for \"preferred installer program\".pip is a package manager for Python that allows you to install additional libraries and\n",
    "     packages that are not part of the standard Python library such as the ones found in the Python Package Index. It is a replacement for\n",
    "     an easy install."
   ]
  },
  {
   "cell_type": "code",
   "execution_count": null,
   "id": "0a623d69-7c05-4ee8-84f6-47498d115c34",
   "metadata": {},
   "outputs": [],
   "source": [
    "Q11: MENTION A FEW BUILT-IN FUNCTIONS IN PYTHON?\n",
    "\n",
    "ANS: There is lots of built-in funtions in python.Built-in functions are ones for which the compiler generates inline code at compile time. \n",
    "     Every call to a built-in function eliminates a runtime call to the function having the same name in the dynamic library.\n",
    "    the latest version of Python 3.8 has 69 built-in functions.\n",
    "few are mentioned:\n",
    "            print( )  ,type( )  ,input( ) , sorted( ), min(),max() ,sum() , range(), complex(), type(),bool() ,str() ."
   ]
  },
  {
   "cell_type": "code",
   "execution_count": null,
   "id": "ced19397-1c79-4cc0-a04a-df801b6fcc63",
   "metadata": {},
   "outputs": [],
   "source": [
    "Q12: WHAT IS THE MAXIMUM POSSIBLE LENGTH OF AN IDENTIFIER IN PYTHON?\n",
    "\n",
    "ANS: An identifier can have a maximum length of 79 characters in Python."
   ]
  },
  {
   "cell_type": "code",
   "execution_count": null,
   "id": "a414aeaa-4174-41e9-9d3f-e3f6e64844f9",
   "metadata": {},
   "outputs": [],
   "source": [
    "Q13: WHAT ARE THE BENEFITS OF USING PYTHON?\n",
    "\n",
    "ANS: Python requires less coding when the same task is done in other languages. Python also has awesome standard library support,\n",
    "     so you do not have to search for any third-party libraries to get your work done.Due to easy syntax, it gained popularity not \n",
    "     only among software engineers but also with data scientists and academic researchers. Its simplicity is best for overcoming complex\n",
    "     problems and make it the most popular choice for machine learning and data processing.\n",
    "     There id top reson to learn python here we get lots of best job opportunity like:\n",
    "        Data science, Scientific and mathematical computing, Web development,Finance and trading,System automation and administration,\n",
    "        Computer graphics."
   ]
  },
  {
   "cell_type": "code",
   "execution_count": null,
   "id": "e6208985-c5f4-42b9-ac4d-27c3871984d5",
   "metadata": {},
   "outputs": [],
   "source": [
    "Q14: HOW IS MEMORY MANAGE IN PYTHON?\n",
    "\n",
    "ANS: Memory in Python is managed by Python private heap space. All Python objects and data structures are located in a private heap. \n",
    "    This private heap is taken care of by Python Interpreter itself, and a programmer does not have access to this private heap."
   ]
  },
  {
   "cell_type": "code",
   "execution_count": null,
   "id": "d7bf609f-6fa3-4980-b535-c9df6039f270",
   "metadata": {},
   "outputs": [],
   "source": [
    "Q15: HOW TO INSTALL PYTHON ON WINDOWS AND SET PATH VARIABLE?\n",
    "\n",
    "ANS: Process of installing python in windows:\n",
    "1.Open a browser to the Python website and download the Windows installer. \n",
    "2. Double click on the downloaded file and install Python for all users,and ensure that Python is added to your path. \n",
    "3.Click on Install now to begin\n",
    "\n",
    "(Go to the official Python download page for Windows.\n",
    "Find a stable Python 3 release. Click the appropriate link for your system to download the executable file: \n",
    "Windows installer (64-bit) or Windows installer (32-bit).)\n",
    "\n",
    "Path set in python:    \n",
    "The complete path of python.exe can be added by:\n",
    "Right-clicking This PC and going to Properties->Clicking on the Advanced system settings in the menu on the left.\n",
    "Clicking on the Environment Variables button oN the bottom right.\n",
    "In the System variables section, selecting the Path variable and clicking on Edit. \n",
    "The next screen will show all the directories that are currently a part of the PATH variable.\n",
    "Clicking on New and entering Python’s install directory.\n",
    "Python can now be used directly from the command prompt without having to write its location. \n",
    "Try executing the command python --version; it will output the version of Python installed on your system."
   ]
  },
  {
   "cell_type": "code",
   "execution_count": null,
   "id": "db87fe36-c5ac-4fc5-8fee-2fd5cc2aeaf7",
   "metadata": {},
   "outputs": [],
   "source": [
    "Q16: IS IDENTIFIRE REQUIRED IN PYTHON?\n",
    "\n",
    "ANS: YES,\n",
    "The identifier is a combination of character digits and underscore and the character includes letters in lowercase (a-z), \n",
    "1.letters in uppercase (A-Z), digits (0-9), and an underscore (_).\n",
    "2.An identifier cannot begin with a digit. If an identifier starts with a digit, it will give a Syntax error.\n",
    "3.In Python, keywords are the reserved names that are built-in to Python, so a keyword cannot be used as an identifier - \n",
    "4.they have a special meaning and we cannot use them as identifier names.\n",
    "5.Special symbols like !, @, #, $, %, etc. are not allowed in identifiers.\n",
    "6.Python identifiers cannot only contain digits.\n",
    "7.There is no restriction on the length of identifiers.\n",
    "8.Identifier names are case-sensitive."
   ]
  }
 ],
 "metadata": {
  "kernelspec": {
   "display_name": "Python 3 (ipykernel)",
   "language": "python",
   "name": "python3"
  },
  "language_info": {
   "codemirror_mode": {
    "name": "ipython",
    "version": 3
   },
   "file_extension": ".py",
   "mimetype": "text/x-python",
   "name": "python",
   "nbconvert_exporter": "python",
   "pygments_lexer": "ipython3",
   "version": "3.10.8"
  }
 },
 "nbformat": 4,
 "nbformat_minor": 5
}
